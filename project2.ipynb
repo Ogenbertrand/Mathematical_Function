{
 "cells": [
  {
   "cell_type": "raw",
   "id": "3fe603ec-fa3d-4d50-ac2a-f96e7b0ef405",
   "metadata": {},
   "source": [
    "import pandas as pd\n",
    "\n",
    "#Load the dataset\n",
    "df = pd.read_csv('/home/leku/Documents/dataset.csv/data.csv')\n",
    "\n",
    "#Display the first few rows\n",
    "df.head()\n",
    "\n",
    "#Determine the shape of the dataset\n",
    "print(\"Shape of the dataset:\", df.shape)\n",
    "\n",
    "#check for missing values\n",
    "print(\"Missing values:\\n\", df.isnull().sum())\n",
    "\n",
    "#Display basic statistics for the 'amount' column\n",
    "print(\"Statistics for'amount' column:\\n\", df['amount'].describe())\n"
   ]
  },
  {
   "cell_type": "code",
   "execution_count": null,
   "id": "7b2a3137-624d-43e1-9e22-186c3ed06192",
   "metadata": {},
   "outputs": [],
   "source": []
  },
  {
   "cell_type": "code",
   "execution_count": null,
   "id": "05520849-38b5-44cb-8ba6-54fc700fad8a",
   "metadata": {},
   "outputs": [],
   "source": []
  }
 ],
 "metadata": {
  "kernelspec": {
   "display_name": "Python 3 (ipykernel)",
   "language": "python",
   "name": "python3"
  },
  "language_info": {
   "codemirror_mode": {
    "name": "ipython",
    "version": 3
   },
   "file_extension": ".py",
   "mimetype": "text/x-python",
   "name": "python",
   "nbconvert_exporter": "python",
   "pygments_lexer": "ipython3",
   "version": "3.10.12"
  }
 },
 "nbformat": 4,
 "nbformat_minor": 5
}
